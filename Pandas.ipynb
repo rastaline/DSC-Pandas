{
 "cells": [
  {
   "cell_type": "code",
   "execution_count": 19,
   "metadata": {},
   "outputs": [],
   "source": [
    "import pandas as pd\n",
    "import matplotlib.pyplot as plt\n",
    "import seaborn as sns"
   ]
  },
  {
   "cell_type": "code",
   "execution_count": 18,
   "metadata": {},
   "outputs": [],
   "source": [
    "def read_chat(file):\n",
    "    global messages\n",
    "#functon to read the exported chat\n",
    "    open_chat = open(file, encoding = 'utf-8') #opens the file inputted\n",
    "    read_chat = open_chat.read() #reads the file open\n",
    "    messages = read_chat.split('\\n') #splits the file into a list containing lines of strings"
   ]
  },
  {
   "cell_type": "code",
   "execution_count": 4,
   "metadata": {},
   "outputs": [],
   "source": [
    "def cleaning_messages(messages): #cleaning the read txt file'\n",
    "    global Date\n",
    "    global Sender\n",
    "    global Message\n",
    "    global Time\n",
    "    Date = []\n",
    "    Sender = []\n",
    "    Message= []\n",
    "    Time = []\n",
    "    for n in range(0, len(messages)-1):\n",
    "        if str(messages[n].count(':')) == '2' and str(messages[n].count(\"/\") < 4): #condition for message selection\n",
    "            Date.append(messages[n][0:10].strip()) #appending date to appropriate column\n",
    "            Time.append(messages[n][12:20].strip()) #appending time to appropriate column\n",
    "            rest = messages[n][20:].strip() #putting the remaining strngs in a variable for more cleaning\n",
    "            if(rest.find (':') != -1):\n",
    "                Sender.append(rest[2: rest.index(':')]) #appending senders name to appropriate column\n",
    "                Message.append(rest[rest.index(':')+1:]) #appending the chat to appropriate column\n",
    "            else: # if condition is not met\n",
    "                Sender.append('No sender')\n",
    "                Message.append('No message')\n"
   ]
  },
  {
   "cell_type": "code",
   "execution_count": 5,
   "metadata": {},
   "outputs": [],
   "source": [
    "def create_dataframe(Date, Sender,Message, Time): #this creates the pandas dataframe\n",
    "    global df\n",
    "    chat_dictionary = {'Date': Date, 'Time' : Time,'Sender': Sender, 'Message': Message} #dictionary to be used for df\n",
    "    df = pd.DataFrame(chat_dictionary) # pandas dataframe\n",
    "    return df.head(10) #first 10 values"
   ]
  },
  {
   "cell_type": "code",
   "execution_count": 10,
   "metadata": {},
   "outputs": [
    {
     "data": {
      "text/html": [
       "<div>\n",
       "<style scoped>\n",
       "    .dataframe tbody tr th:only-of-type {\n",
       "        vertical-align: middle;\n",
       "    }\n",
       "\n",
       "    .dataframe tbody tr th {\n",
       "        vertical-align: top;\n",
       "    }\n",
       "\n",
       "    .dataframe thead th {\n",
       "        text-align: right;\n",
       "    }\n",
       "</style>\n",
       "<table border=\"1\" class=\"dataframe\">\n",
       "  <thead>\n",
       "    <tr style=\"text-align: right;\">\n",
       "      <th></th>\n",
       "      <th>Date</th>\n",
       "      <th>Time</th>\n",
       "      <th>Sender</th>\n",
       "      <th>Message</th>\n",
       "    </tr>\n",
       "  </thead>\n",
       "  <tbody>\n",
       "    <tr>\n",
       "      <th>0</th>\n",
       "      <td>26/08/2020</td>\n",
       "      <td>8:52 pm</td>\n",
       "      <td>Engr Dee</td>\n",
       "      <td>Okay guys</td>\n",
       "    </tr>\n",
       "    <tr>\n",
       "      <th>1</th>\n",
       "      <td>26/08/2020</td>\n",
       "      <td>9:28 pm</td>\n",
       "      <td>Nifemi DSC</td>\n",
       "      <td>Ok</td>\n",
       "    </tr>\n",
       "    <tr>\n",
       "      <th>2</th>\n",
       "      <td>26/08/2020</td>\n",
       "      <td>9:30 pm</td>\n",
       "      <td>RehobothEEE</td>\n",
       "      <td>Yes sir</td>\n",
       "    </tr>\n",
       "    <tr>\n",
       "      <th>3</th>\n",
       "      <td>26/08/2020</td>\n",
       "      <td>11:37 pm</td>\n",
       "      <td>Mosope DSC</td>\n",
       "      <td>@mo_sopefoluwa</td>\n",
       "    </tr>\n",
       "    <tr>\n",
       "      <th>4</th>\n",
       "      <td>27/08/2020</td>\n",
       "      <td>12:46 am</td>\n",
       "      <td>+234 701 095 0358</td>\n",
       "      <td>But please I need urgent help, while trying t...</td>\n",
       "    </tr>\n",
       "    <tr>\n",
       "      <th>5</th>\n",
       "      <td>27/08/2020</td>\n",
       "      <td>12:46 am</td>\n",
       "      <td>+234 701 095 0358</td>\n",
       "      <td>Please I need help urgently 🙏...how do I go a...</td>\n",
       "    </tr>\n",
       "    <tr>\n",
       "      <th>6</th>\n",
       "      <td>27/08/2020</td>\n",
       "      <td>12:47 am</td>\n",
       "      <td>khok-maw'🚀</td>\n",
       "      <td>pip --upgrade pip or so</td>\n",
       "    </tr>\n",
       "    <tr>\n",
       "      <th>7</th>\n",
       "      <td>27/08/2020</td>\n",
       "      <td>12:48 am</td>\n",
       "      <td>khok-maw'🚀</td>\n",
       "      <td>pip install --upgrade pip</td>\n",
       "    </tr>\n",
       "    <tr>\n",
       "      <th>8</th>\n",
       "      <td>27/08/2020</td>\n",
       "      <td>12:50 am</td>\n",
       "      <td>+234 701 095 0358</td>\n",
       "      <td>Yeahhhh...I tried it, it's saying upgrade pip...</td>\n",
       "    </tr>\n",
       "    <tr>\n",
       "      <th>9</th>\n",
       "      <td>27/08/2020</td>\n",
       "      <td>12:51 am</td>\n",
       "      <td>+234 701 095 0358</td>\n",
       "      <td>That my pip is already in 20.2.2</td>\n",
       "    </tr>\n",
       "  </tbody>\n",
       "</table>\n",
       "</div>"
      ],
      "text/plain": [
       "         Date      Time             Sender  \\\n",
       "0  26/08/2020   8:52 pm           Engr Dee   \n",
       "1  26/08/2020   9:28 pm         Nifemi DSC   \n",
       "2  26/08/2020   9:30 pm        RehobothEEE   \n",
       "3  26/08/2020  11:37 pm         Mosope DSC   \n",
       "4  27/08/2020  12:46 am  +234 701 095 0358   \n",
       "5  27/08/2020  12:46 am  +234 701 095 0358   \n",
       "6  27/08/2020  12:47 am         khok-maw'🚀   \n",
       "7  27/08/2020  12:48 am         khok-maw'🚀   \n",
       "8  27/08/2020  12:50 am  +234 701 095 0358   \n",
       "9  27/08/2020  12:51 am  +234 701 095 0358   \n",
       "\n",
       "                                             Message  \n",
       "0                                          Okay guys  \n",
       "1                                                 Ok  \n",
       "2                                            Yes sir  \n",
       "3                                     @mo_sopefoluwa  \n",
       "4   But please I need urgent help, while trying t...  \n",
       "5   Please I need help urgently 🙏...how do I go a...  \n",
       "6                            pip --upgrade pip or so  \n",
       "7                          pip install --upgrade pip  \n",
       "8   Yeahhhh...I tried it, it's saying upgrade pip...  \n",
       "9                   That my pip is already in 20.2.2  "
      ]
     },
     "execution_count": 10,
     "metadata": {},
     "output_type": "execute_result"
    }
   ],
   "source": [
    "a = 'WhatsApp Chat with DSC AI STACK(Amateur).txt'\n",
    "read_chat(a)\n",
    "cleaning_messages(messages)\n",
    "create_dataframe(Date, Sender,Message, Time)"
   ]
  },
  {
   "cell_type": "code",
   "execution_count": 11,
   "metadata": {},
   "outputs": [
    {
     "data": {
      "text/plain": [
       "Success DSC             1588\n",
       "khok-maw'🚀              1005\n",
       "Ire                      753\n",
       "RehobothEEE              358\n",
       "‎Reserve DSC             351\n",
       "Lateef DSC               344\n",
       "+234 905 635 7349        215\n",
       "+234 701 095 0358        198\n",
       "+234 902 590 5787        141\n",
       "Avogrado                 136\n",
       "Sir Fuad                 131\n",
       "+234 903 836 8530         65\n",
       "Mosope DSC                58\n",
       "Nifemi DSC                50\n",
       "+234 706 749 2346         39\n",
       "Triumph DSC               36\n",
       "Engr Dee                  27\n",
       "No sender                  3\n",
       "+234 906 639 9274          1\n",
       " -1                        1\n",
       "this article ( https       1\n",
       "Name: Sender, dtype: int64"
      ]
     },
     "execution_count": 11,
     "metadata": {},
     "output_type": "execute_result"
    }
   ],
   "source": [
    "pd.value_counts(df['Sender'])"
   ]
  },
  {
   "cell_type": "code",
   "execution_count": 12,
   "metadata": {},
   "outputs": [
    {
     "data": {
      "text/plain": [
       "Success DSC    1588\n",
       "Name: Sender, dtype: int64"
      ]
     },
     "execution_count": 12,
     "metadata": {},
     "output_type": "execute_result"
    }
   ],
   "source": [
    "df['Sender'].value_counts()[0:1] #highest number of messages"
   ]
  },
  {
   "cell_type": "code",
   "execution_count": 13,
   "metadata": {},
   "outputs": [
    {
     "data": {
      "text/plain": [
       "[<matplotlib.lines.Line2D at 0x27dbe58a280>]"
      ]
     },
     "execution_count": 13,
     "metadata": {},
     "output_type": "execute_result"
    },
    {
     "name": "stderr",
     "output_type": "stream",
     "text": [
      "C:\\Users\\owner\\anaconda3\\lib\\site-packages\\matplotlib\\backends\\backend_agg.py:214: RuntimeWarning: Glyph 55357 missing from current font.\n",
      "  font.set_text(s, 0.0, flags=flags)\n",
      "C:\\Users\\owner\\anaconda3\\lib\\site-packages\\matplotlib\\backends\\backend_agg.py:214: RuntimeWarning: Glyph 56960 missing from current font.\n",
      "  font.set_text(s, 0.0, flags=flags)\n",
      "C:\\Users\\owner\\anaconda3\\lib\\site-packages\\matplotlib\\backends\\backend_agg.py:183: RuntimeWarning: Glyph 55357 missing from current font.\n",
      "  font.set_text(s, 0, flags=flags)\n",
      "C:\\Users\\owner\\anaconda3\\lib\\site-packages\\matplotlib\\backends\\backend_agg.py:183: RuntimeWarning: Glyph 56960 missing from current font.\n",
      "  font.set_text(s, 0, flags=flags)\n"
     ]
    },
    {
     "data": {
      "image/png": "[encoded data removed]",
      "text/plain": [
       "<Figure size 432x288 with 1 Axes>"
      ]
     },
     "metadata": {
      "needs_background": "light"
     },
     "output_type": "display_data"
    }
   ],
   "source": [
    "a = list(df['Sender'].value_counts())\n",
    "b = df['Sender'].value_counts().keys()\n",
    "fig = plt.figure()\n",
    "ax = fig.add_axes([0,0,1,1])\n",
    "ax.plot(a,b,'bo-')"
   ]
  },
  {
   "cell_type": "code",
   "execution_count": 14,
   "metadata": {},
   "outputs": [
    {
     "data": {
      "text/plain": [
       "<matplotlib.axes._subplots.AxesSubplot at 0x27dbe5d6f10>"
      ]
     },
     "execution_count": 14,
     "metadata": {},
     "output_type": "execute_result"
    },
    {
     "data": {
      "image/png": "[encoded data removed]",
      "text/plain": [
       "<Figure size 432x288 with 1 Axes>"
      ]
     },
     "metadata": {},
     "output_type": "display_data"
    }
   ],
   "source": [
    "sns.set_style('whitegrid')\n",
    "\n",
    "a = list(df['Sender'].value_counts())\n",
    "b = df['Sender'].value_counts().keys()\n",
    "sns.barplot(x=b,y=a,data = df)"
   ]
  },
  {
   "cell_type": "code",
   "execution_count": 21,
   "metadata": {},
   "outputs": [
    {
     "data": {
      "text/plain": [
       "Ire                  109\n",
       "+234 701 095 0358    102\n",
       "Success DSC           77\n",
       "Lateef DSC            62\n",
       "+234 903 836 8530     43\n",
       "khok-maw'🚀            39\n",
       "Avogrado              25\n",
       "+234 902 590 5787     22\n",
       "RehobothEEE           18\n",
       "Nifemi DSC            16\n",
       "Triumph DSC           15\n",
       "‎Reserve DSC           9\n",
       "+234 905 635 7349      9\n",
       "Engr Dee               5\n",
       "+234 706 749 2346      4\n",
       "No sender              3\n",
       "Sir Fuad               2\n",
       "Mosope DSC             1\n",
       "Name: Sender, dtype: int64"
      ]
     },
     "execution_count": 21,
     "metadata": {},
     "output_type": "execute_result"
    }
   ],
   "source": [
    "df['Sender'].iloc[:561].value_counts() #number of messages in august"
   ]
  },
  {
   "cell_type": "code",
   "execution_count": 22,
   "metadata": {},
   "outputs": [
    {
     "data": {
      "text/plain": [
       "Success DSC             1511\n",
       "khok-maw'🚀               966\n",
       "Ire                      644\n",
       "‎Reserve DSC             342\n",
       "RehobothEEE              340\n",
       "Lateef DSC               282\n",
       "+234 905 635 7349        206\n",
       "Sir Fuad                 129\n",
       "+234 902 590 5787        119\n",
       "Avogrado                 111\n",
       "+234 701 095 0358         96\n",
       "Mosope DSC                57\n",
       "+234 706 749 2346         35\n",
       "Nifemi DSC                34\n",
       "+234 903 836 8530         22\n",
       "Engr Dee                  22\n",
       "Triumph DSC               21\n",
       "+234 906 639 9274          1\n",
       " -1                        1\n",
       "this article ( https       1\n",
       "Name: Sender, dtype: int64"
      ]
     },
     "execution_count": 22,
     "metadata": {},
     "output_type": "execute_result"
    }
   ],
   "source": [
    "df['Sender'].iloc[561:].value_counts()#number of messages in september"
   ]
  },
  {
   "cell_type": "code",
   "execution_count": null,
   "metadata": {},
   "outputs": [],
   "source": []
  }
 ],
 "metadata": {
  "kernelspec": {
   "display_name": "Python 3",
   "language": "python",
   "name": "python3"
  },
  "language_info": {
   "codemirror_mode": {
    "name": "ipython",
    "version": 3
   },
   "file_extension": ".py",
   "mimetype": "text/x-python",
   "name": "python",
   "nbconvert_exporter": "python",
   "pygments_lexer": "ipython3",
   "version": "3.8.3"
  }
 },
 "nbformat": 4,
 "nbformat_minor": 4
}
